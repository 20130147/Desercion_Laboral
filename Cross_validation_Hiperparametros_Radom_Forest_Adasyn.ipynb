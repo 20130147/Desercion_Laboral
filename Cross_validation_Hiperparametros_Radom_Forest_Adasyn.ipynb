{
  "nbformat": 4,
  "nbformat_minor": 0,
  "metadata": {
    "colab": {
      "name": "Cross_validation_Hiperparametros_Radom_Forest_Adasyn.ipynb",
      "provenance": [],
      "authorship_tag": "ABX9TyPTpjnVoiiLlt/46E7Esn0T"
    },
    "kernelspec": {
      "name": "python3",
      "display_name": "Python 3"
    }
  },
  "cells": [
    {
      "cell_type": "code",
      "metadata": {
        "id": "xnmaxJqakDMG",
        "colab_type": "code",
        "colab": {}
      },
      "source": [
        "import pandas as pd\n",
        "import numpy as np\n",
        "import matplotlib.pyplot as plt\n",
        "import seaborn as sns\n",
        "from imblearn.over_sampling import ADASYN\n",
        "%matplotlib inline\n",
        "from sklearn.linear_model import LogisticRegression\n",
        "from sklearn.tree import DecisionTreeClassifier\n",
        "from sklearn.svm import SVC\n",
        "from sklearn.model_selection import KFold, cross_val_score"
      ],
      "execution_count": 0,
      "outputs": []
    },
    {
      "cell_type": "code",
      "metadata": {
        "id": "LMKEYeFckQYm",
        "colab_type": "code",
        "colab": {}
      },
      "source": [
        "data=pd.read_csv('NORMALIZADO.csv')"
      ],
      "execution_count": 0,
      "outputs": []
    },
    {
      "cell_type": "code",
      "metadata": {
        "id": "f8iIxznBkVad",
        "colab_type": "code",
        "colab": {}
      },
      "source": [
        "cols=['Age','BysunessTrave','DailyRate','Department','DistanceFromHome', 'Education', 'EducationField','EmployeeNumber','EnvironmentSatifaction', 'Gender', 'HourlyRate', 'Joblnvolvement', 'JobLevel'\n",
        "      'JobRole','JobSatisfaction','MaritalStatus','MonthlyIncome', 'MonthlyRate', 'NumCompaniesWorked', 'OverTime', 'PercentSalaryHike', 'PerformanceRating', 'RelationshipSatisfaction', 'StockOptionLevel'\n",
        "      'TotalWorkingYears', 'TraininTimesLastYear', 'WorkLifeBalance','YearAtCompany', 'YearInCurrentRole', 'YearsSinceLastPromotion', 'YearsWithCurrManager','Attrition']"
      ],
      "execution_count": 0,
      "outputs": []
    },
    {
      "cell_type": "code",
      "metadata": {
        "id": "SHI7BTgYkfm0",
        "colab_type": "code",
        "colab": {}
      },
      "source": [
        "Datos=data.iloc[:,:-1].values#todas menos la ultima\n",
        "Categoria=data.iloc[:,-1].values #ultima columna"
      ],
      "execution_count": 0,
      "outputs": []
    },
    {
      "cell_type": "code",
      "metadata": {
        "id": "J24zGiLboD3u",
        "colab_type": "code",
        "colab": {}
      },
      "source": [
        "from collections import Counter"
      ],
      "execution_count": 0,
      "outputs": []
    },
    {
      "cell_type": "code",
      "metadata": {
        "id": "XO7Et4s8OWLi",
        "colab_type": "code",
        "colab": {}
      },
      "source": [
        "Counter(Categoria)"
      ],
      "execution_count": 0,
      "outputs": []
    },
    {
      "cell_type": "code",
      "metadata": {
        "id": "vq9Jnc6hkkA3",
        "colab_type": "code",
        "colab": {}
      },
      "source": [
        "ada= ADASYN(sampling_strategy='minority', random_state=4,n_neighbors=1)"
      ],
      "execution_count": 0,
      "outputs": []
    },
    {
      "cell_type": "code",
      "metadata": {
        "id": "uyG1-NyLkm-v",
        "colab_type": "code",
        "colab": {}
      },
      "source": [
        "DatosNorma, CategoriaNorma =ada.fit_resample(Datos,Categoria)"
      ],
      "execution_count": 0,
      "outputs": []
    },
    {
      "cell_type": "code",
      "metadata": {
        "id": "EBDmgQirktir",
        "colab_type": "code",
        "colab": {}
      },
      "source": [
        "print('OVersampled Target variable distribucion;', Counter(CategoriaNorma))"
      ],
      "execution_count": 0,
      "outputs": []
    },
    {
      "cell_type": "code",
      "metadata": {
        "id": "gqQwegHslJyk",
        "colab_type": "code",
        "colab": {}
      },
      "source": [
        "########################################################RANDOM FOREST#############################################"
      ],
      "execution_count": 0,
      "outputs": []
    },
    {
      "cell_type": "code",
      "metadata": {
        "id": "YQg-4OzOlPnp",
        "colab_type": "code",
        "colab": {}
      },
      "source": [
        "from sklearn.model_selection import train_test_split\n",
        "\n",
        "X_train, X_test, y_train, y_test = train_test_split(DatosNorma, CategoriaNorma, test_size=0.3,)"
      ],
      "execution_count": 0,
      "outputs": []
    },
    {
      "cell_type": "code",
      "metadata": {
        "id": "73UjGpvhnAZg",
        "colab_type": "code",
        "colab": {}
      },
      "source": [
        "####################hiperparametros##############"
      ],
      "execution_count": 0,
      "outputs": []
    },
    {
      "cell_type": "code",
      "metadata": {
        "id": "wFaFzeq_lg9D",
        "colab_type": "code",
        "colab": {}
      },
      "source": [
        "from sklearn.ensemble import RandomForestClassifier"
      ],
      "execution_count": 0,
      "outputs": []
    },
    {
      "cell_type": "code",
      "metadata": {
        "id": "Bq2xk35unEW6",
        "colab_type": "code",
        "colab": {}
      },
      "source": [
        "####cuadrilla de parametros#######"
      ],
      "execution_count": 0,
      "outputs": []
    },
    {
      "cell_type": "code",
      "metadata": {
        "id": "isC4iXK5ovgh",
        "colab_type": "code",
        "colab": {}
      },
      "source": [
        "n_estimators = [int(x) for x in np.linspace(start = 200, stop = 2000, num = 10)]\n",
        "max_features = ['auto', 'sqrt']\n",
        "max_depth = [int(x) for x in np.linspace(10, 110, num = 11)]\n",
        "max_depth.append(None)\n",
        "min_samples_split = [2, 5, 10]\n",
        "min_samples_leaf = [1, 2, 4]\n",
        "bootstrap = [True, False]"
      ],
      "execution_count": 0,
      "outputs": []
    },
    {
      "cell_type": "code",
      "metadata": {
        "id": "3I7ryLt_pIUB",
        "colab_type": "code",
        "colab": {}
      },
      "source": [
        "##############cuadrilla aleatoria############"
      ],
      "execution_count": 0,
      "outputs": []
    },
    {
      "cell_type": "code",
      "metadata": {
        "id": "uQQNAtZ3pO02",
        "colab_type": "code",
        "colab": {}
      },
      "source": [
        "random_grid = { 'n_estimators': n_estimators, \n",
        "               'max_features': max_features, \n",
        "               'max_depth': max_depth, \n",
        "               'min_samples_split': min_samples_split, \n",
        "               'min_samples_leaf': min_samples_leaf, \n",
        "               'bootstrap': bootstrap} "
      ],
      "execution_count": 0,
      "outputs": []
    },
    {
      "cell_type": "code",
      "metadata": {
        "id": "goxSvW6FpVzG",
        "colab_type": "code",
        "colab": {}
      },
      "source": [
        "print(random_grid)\n",
        "{'bootstrap': [True, False],\n",
        " 'max_depth': [10, 20, 30, 40, 50, 60, 70, 80, 90, 100, None],\n",
        " 'max_features': ['auto', 'sqrt'],\n",
        " 'min_samples_leaf': [1, 2, 4],\n",
        " 'min_samples_split': [2, 5, 10],\n",
        " 'n_estimators': [200, 400, 600, 800, 1000, 1200, 1400, 1600, 1800, 2000]}"
      ],
      "execution_count": 0,
      "outputs": []
    },
    {
      "cell_type": "code",
      "metadata": {
        "id": "XCkqGEexljT3",
        "colab_type": "code",
        "colab": {}
      },
      "source": [
        "clf=RandomForestClassifier()"
      ],
      "execution_count": 0,
      "outputs": []
    },
    {
      "cell_type": "code",
      "metadata": {
        "id": "8y7kyZc0qMOR",
        "colab_type": "code",
        "colab": {}
      },
      "source": [
        "from sklearn.model_selection import RandomizedSearchCV "
      ],
      "execution_count": 0,
      "outputs": []
    },
    {
      "cell_type": "code",
      "metadata": {
        "id": "rL5NzFtpp3WN",
        "colab_type": "code",
        "colab": {}
      },
      "source": [
        "rf_random = RandomizedSearchCV(estimator = clf, param_distributions = random_grid, n_iter = 100, cv = 3, verbose=2, n_jobs = -1)"
      ],
      "execution_count": 0,
      "outputs": []
    },
    {
      "cell_type": "code",
      "metadata": {
        "id": "4EFKZkDOlmnz",
        "colab_type": "code",
        "outputId": "80d04985-0794-42c3-aa65-8a636c7472da",
        "colab": {
          "base_uri": "https://localhost:8080/",
          "height": 578
        }
      },
      "source": [
        "rf_random.fit(X_train,y_train)"
      ],
      "execution_count": 27,
      "outputs": [
        {
          "output_type": "stream",
          "text": [
            "Fitting 3 folds for each of 100 candidates, totalling 300 fits\n"
          ],
          "name": "stdout"
        },
        {
          "output_type": "stream",
          "text": [
            "[Parallel(n_jobs=-1)]: Using backend LokyBackend with 2 concurrent workers.\n",
            "[Parallel(n_jobs=-1)]: Done  37 tasks      | elapsed:   38.0s\n",
            "[Parallel(n_jobs=-1)]: Done 158 tasks      | elapsed:  3.4min\n",
            "[Parallel(n_jobs=-1)]: Done 300 out of 300 | elapsed:  6.9min finished\n"
          ],
          "name": "stderr"
        },
        {
          "output_type": "execute_result",
          "data": {
            "text/plain": [
              "RandomizedSearchCV(cv=3, error_score=nan,\n",
              "                   estimator=RandomForestClassifier(bootstrap=True,\n",
              "                                                    ccp_alpha=0.0,\n",
              "                                                    class_weight=None,\n",
              "                                                    criterion='gini',\n",
              "                                                    max_depth=None,\n",
              "                                                    max_features='auto',\n",
              "                                                    max_leaf_nodes=None,\n",
              "                                                    max_samples=None,\n",
              "                                                    min_impurity_decrease=0.0,\n",
              "                                                    min_impurity_split=None,\n",
              "                                                    min_samples_leaf=1,\n",
              "                                                    min_samples_split=2,\n",
              "                                                    min_weight_fraction_leaf=0.0,\n",
              "                                                    n_estimators=100,\n",
              "                                                    n_jobs...\n",
              "                   param_distributions={'bootstrap': [True, False],\n",
              "                                        'max_depth': [10, 20, 30, 40, 50, 60,\n",
              "                                                      70, 80, 90, 100, 110,\n",
              "                                                      None],\n",
              "                                        'max_features': ['auto', 'sqrt'],\n",
              "                                        'min_samples_leaf': [1, 2, 4],\n",
              "                                        'min_samples_split': [2, 5, 10],\n",
              "                                        'n_estimators': [200, 400, 600, 800,\n",
              "                                                         1000, 1200, 1400, 1600,\n",
              "                                                         1800, 2000]},\n",
              "                   pre_dispatch='2*n_jobs', random_state=None, refit=True,\n",
              "                   return_train_score=False, scoring=None, verbose=2)"
            ]
          },
          "metadata": {
            "tags": []
          },
          "execution_count": 27
        }
      ]
    },
    {
      "cell_type": "code",
      "metadata": {
        "id": "34N-etzIswB4",
        "colab_type": "code",
        "outputId": "a92227fc-573c-4e7c-83f8-ad1e7596e483",
        "colab": {
          "base_uri": "https://localhost:8080/",
          "height": 51
        }
      },
      "source": [
        "print (rf_random.best_params_)\n",
        "rf_random.best_score_"
      ],
      "execution_count": 29,
      "outputs": [
        {
          "output_type": "stream",
          "text": [
            "{'n_estimators': 1000, 'min_samples_split': 2, 'min_samples_leaf': 1, 'max_features': 'auto', 'max_depth': 80, 'bootstrap': True}\n"
          ],
          "name": "stdout"
        },
        {
          "output_type": "execute_result",
          "data": {
            "text/plain": [
              "0.9239766081871346"
            ]
          },
          "metadata": {
            "tags": []
          },
          "execution_count": 29
        }
      ]
    },
    {
      "cell_type": "code",
      "metadata": {
        "id": "syKagLQ_yjdJ",
        "colab_type": "code",
        "outputId": "f59246c2-9f1d-49e2-dcee-238655290364",
        "colab": {
          "base_uri": "https://localhost:8080/",
          "height": 34
        }
      },
      "source": [
        "print(\"precisión entranamiento: {0: .2f}\".format(\n",
        "       rf_random.score(X_train, y_train)))"
      ],
      "execution_count": 30,
      "outputs": [
        {
          "output_type": "stream",
          "text": [
            "precisión entranamiento:  1.00\n"
          ],
          "name": "stdout"
        }
      ]
    },
    {
      "cell_type": "code",
      "metadata": {
        "id": "Dgd1YT-Ygm5d",
        "colab_type": "code",
        "colab": {}
      },
      "source": [
        "################################VALIDACION CRUZADA##################"
      ],
      "execution_count": 0,
      "outputs": []
    },
    {
      "cell_type": "code",
      "metadata": {
        "id": "ksUFJ-1ygmyV",
        "colab_type": "code",
        "colab": {}
      },
      "source": [
        "from sklearn.model_selection import KFold\n",
        "from sklearn.model_selection import cross_val_score"
      ],
      "execution_count": 0,
      "outputs": []
    },
    {
      "cell_type": "code",
      "metadata": {
        "id": "7VfAbIBAgmmd",
        "colab_type": "code",
        "colab": {
          "base_uri": "https://localhost:8080/",
          "height": 442
        },
        "outputId": "8d6f6896-56a9-4fb0-c41b-14bb348b43dc"
      },
      "source": [
        "resultado= cross_val_score(rf_random,DatosNorma,CategoriaNorma, cv=5)"
      ],
      "execution_count": 35,
      "outputs": [
        {
          "output_type": "stream",
          "text": [
            "Fitting 3 folds for each of 100 candidates, totalling 300 fits\n"
          ],
          "name": "stdout"
        },
        {
          "output_type": "stream",
          "text": [
            "[Parallel(n_jobs=-1)]: Using backend LokyBackend with 2 concurrent workers.\n",
            "[Parallel(n_jobs=-1)]: Done  37 tasks      | elapsed:   48.4s\n",
            "[Parallel(n_jobs=-1)]: Done 158 tasks      | elapsed:  3.6min\n",
            "[Parallel(n_jobs=-1)]: Done 300 out of 300 | elapsed:  7.2min finished\n"
          ],
          "name": "stderr"
        },
        {
          "output_type": "stream",
          "text": [
            "Fitting 3 folds for each of 100 candidates, totalling 300 fits\n"
          ],
          "name": "stdout"
        },
        {
          "output_type": "stream",
          "text": [
            "[Parallel(n_jobs=-1)]: Using backend LokyBackend with 2 concurrent workers.\n",
            "[Parallel(n_jobs=-1)]: Done  37 tasks      | elapsed:   58.1s\n",
            "[Parallel(n_jobs=-1)]: Done 158 tasks      | elapsed:  4.0min\n",
            "[Parallel(n_jobs=-1)]: Done 300 out of 300 | elapsed:  7.7min finished\n"
          ],
          "name": "stderr"
        },
        {
          "output_type": "stream",
          "text": [
            "Fitting 3 folds for each of 100 candidates, totalling 300 fits\n"
          ],
          "name": "stdout"
        },
        {
          "output_type": "stream",
          "text": [
            "[Parallel(n_jobs=-1)]: Using backend LokyBackend with 2 concurrent workers.\n",
            "[Parallel(n_jobs=-1)]: Done  37 tasks      | elapsed:   34.5s\n",
            "[Parallel(n_jobs=-1)]: Done 158 tasks      | elapsed:  3.4min\n",
            "[Parallel(n_jobs=-1)]: Done 300 out of 300 | elapsed:  6.8min finished\n"
          ],
          "name": "stderr"
        },
        {
          "output_type": "stream",
          "text": [
            "Fitting 3 folds for each of 100 candidates, totalling 300 fits\n"
          ],
          "name": "stdout"
        },
        {
          "output_type": "stream",
          "text": [
            "[Parallel(n_jobs=-1)]: Using backend LokyBackend with 2 concurrent workers.\n",
            "[Parallel(n_jobs=-1)]: Done  37 tasks      | elapsed:   46.0s\n",
            "[Parallel(n_jobs=-1)]: Done 158 tasks      | elapsed:  3.8min\n",
            "[Parallel(n_jobs=-1)]: Done 300 out of 300 | elapsed:  7.2min finished\n"
          ],
          "name": "stderr"
        },
        {
          "output_type": "stream",
          "text": [
            "Fitting 3 folds for each of 100 candidates, totalling 300 fits\n"
          ],
          "name": "stdout"
        },
        {
          "output_type": "stream",
          "text": [
            "[Parallel(n_jobs=-1)]: Using backend LokyBackend with 2 concurrent workers.\n",
            "[Parallel(n_jobs=-1)]: Done  37 tasks      | elapsed:   45.9s\n",
            "[Parallel(n_jobs=-1)]: Done 158 tasks      | elapsed:  3.5min\n",
            "[Parallel(n_jobs=-1)]: Done 300 out of 300 | elapsed:  7.0min finished\n"
          ],
          "name": "stderr"
        }
      ]
    },
    {
      "cell_type": "code",
      "metadata": {
        "id": "MrGdjKWTgmgR",
        "colab_type": "code",
        "colab": {
          "base_uri": "https://localhost:8080/",
          "height": 34
        },
        "outputId": "7dbf01be-4a43-45c8-b194-afeeb06e1b59"
      },
      "source": [
        "print(resultado)"
      ],
      "execution_count": 36,
      "outputs": [
        {
          "output_type": "stream",
          "text": [
            "[0.74829932 0.89795918 0.91156463 0.95238095 0.9109589 ]\n"
          ],
          "name": "stdout"
        }
      ]
    },
    {
      "cell_type": "code",
      "metadata": {
        "id": "kzouxOw5gmWt",
        "colab_type": "code",
        "colab": {
          "base_uri": "https://localhost:8080/",
          "height": 34
        },
        "outputId": "a66962c4-b0fd-4a63-e0bd-c457b5dff06b"
      },
      "source": [
        "print (resultado.mean())"
      ],
      "execution_count": 40,
      "outputs": [
        {
          "output_type": "stream",
          "text": [
            "0.8842325971484485\n"
          ],
          "name": "stdout"
        }
      ]
    },
    {
      "cell_type": "code",
      "metadata": {
        "id": "YU911E5yt0ZC",
        "colab_type": "code",
        "colab": {}
      },
      "source": [
        "#################prueba###########################"
      ],
      "execution_count": 0,
      "outputs": []
    },
    {
      "cell_type": "code",
      "metadata": {
        "id": "ctB64sXq2kUw",
        "colab_type": "code",
        "colab": {}
      },
      "source": [
        "from sklearn.metrics import classification_report, confusion_matrix"
      ],
      "execution_count": 0,
      "outputs": []
    },
    {
      "cell_type": "code",
      "metadata": {
        "id": "tY-GJ20Ilo7k",
        "colab_type": "code",
        "colab": {}
      },
      "source": [
        "y_pred=rf_random.predict(X_test)"
      ],
      "execution_count": 0,
      "outputs": []
    },
    {
      "cell_type": "code",
      "metadata": {
        "id": "A5W6OGT2lq-9",
        "colab_type": "code",
        "colab": {}
      },
      "source": [
        "from sklearn import metrics"
      ],
      "execution_count": 0,
      "outputs": []
    },
    {
      "cell_type": "code",
      "metadata": {
        "id": "-hxfjBVPltbg",
        "colab_type": "code",
        "outputId": "632bd549-d094-4e65-ed2f-6757675abb79",
        "colab": {
          "base_uri": "https://localhost:8080/",
          "height": 34
        }
      },
      "source": [
        "print(\"Accuracy:\",metrics.accuracy_score(y_test, y_pred))"
      ],
      "execution_count": 46,
      "outputs": [
        {
          "output_type": "stream",
          "text": [
            "Accuracy: 0.9095022624434389\n"
          ],
          "name": "stdout"
        }
      ]
    },
    {
      "cell_type": "code",
      "metadata": {
        "id": "qVcdxfInl9CV",
        "colab_type": "code",
        "colab": {}
      },
      "source": [
        "from sklearn.metrics import classification_report, confusion_matrix"
      ],
      "execution_count": 0,
      "outputs": []
    },
    {
      "cell_type": "code",
      "metadata": {
        "id": "8edd0283l5tW",
        "colab_type": "code",
        "outputId": "ffe00fb3-1893-4384-a56a-16bc46ae2c46",
        "colab": {
          "base_uri": "https://localhost:8080/",
          "height": 204
        }
      },
      "source": [
        "print(confusion_matrix(y_test,y_pred))\n",
        "print(classification_report(y_test,y_pred))"
      ],
      "execution_count": 50,
      "outputs": [
        {
          "output_type": "stream",
          "text": [
            "[[107   9]\n",
            " [ 11  94]]\n",
            "              precision    recall  f1-score   support\n",
            "\n",
            "           0       0.91      0.92      0.91       116\n",
            "           1       0.91      0.90      0.90       105\n",
            "\n",
            "    accuracy                           0.91       221\n",
            "   macro avg       0.91      0.91      0.91       221\n",
            "weighted avg       0.91      0.91      0.91       221\n",
            "\n"
          ],
          "name": "stdout"
        }
      ]
    }
  ]
}