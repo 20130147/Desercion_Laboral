{
  "nbformat": 4,
  "nbformat_minor": 0,
  "metadata": {
    "colab": {
      "name": "ADASYN.ipynb",
      "provenance": [],
      "authorship_tag": "ABX9TyOHBr8Qzx0ov8WKS71CQ+CK"
    },
    "kernelspec": {
      "name": "python3",
      "display_name": "Python 3"
    }
  },
  "cells": [
    {
      "cell_type": "code",
      "metadata": {
        "id": "dXkZTtc3JCDF",
        "colab_type": "code",
        "colab": {}
      },
      "source": [
        "import pandas as pd\n",
        "import numpy as np\n",
        "import matplotlib.pyplot as plt\n",
        "import seaborn as sns\n",
        "from imblearn.over_sampling import ADASYN\n",
        "%matplotlib inline\n",
        "from sklearn.linear_model import LogisticRegression\n",
        "from sklearn.tree import DecisionTreeClassifier\n",
        "from sklearn.svm import SVC\n",
        "from sklearn.model_selection import KFold, cross_val_score"
      ],
      "execution_count": 0,
      "outputs": []
    },
    {
      "cell_type": "code",
      "metadata": {
        "id": "j9f29bO4LNOV",
        "colab_type": "code",
        "colab": {}
      },
      "source": [
        "data=pd.read_csv('prueba.csv')"
      ],
      "execution_count": 0,
      "outputs": []
    },
    {
      "cell_type": "code",
      "metadata": {
        "id": "GyQ-YV7LNdGr",
        "colab_type": "code",
        "colab": {}
      },
      "source": [
        "cols=['Age','BysunessTravekDailyRate','Department','DistanceFromHome', 'Education', 'EducationFiel,dEmployeeCount','EmployeeNumber','EnvironmentSatifaction', 'Gender', 'HourlyRate', 'Joblnvolvement', 'JobLevel'\n",
        "      'JobRole','JobSatisfaction','MaritalStatus','MonthlyIncome', 'MonthlyRate', 'NumCompaniesWorked', 'Over18OverTime', 'PercentSalaryHike', 'PerformanceRating', 'RelationshipSatisfaction', 'StandarHours', 'StockOptionLevel'\n",
        "      'TotalWorkingYears', 'TraininTimesLastYear', 'WorkLifeBalance','YearAtCompany', 'YearInCurrentRole', 'YearsSinceLastPromotion', 'YearsWithCurrManager','Attrition']"
      ],
      "execution_count": 0,
      "outputs": []
    },
    {
      "cell_type": "code",
      "metadata": {
        "id": "ZFrNRCuIP1Xa",
        "colab_type": "code",
        "outputId": "b9acbb13-83aa-4566-8c82-b5f62f1c267f",
        "colab": {
          "base_uri": "https://localhost:8080/",
          "height": 70
        }
      },
      "source": [
        "data.colums=cols"
      ],
      "execution_count": 0,
      "outputs": [
        {
          "output_type": "stream",
          "text": [
            "/usr/local/lib/python3.6/dist-packages/ipykernel_launcher.py:1: UserWarning: Pandas doesn't allow columns to be created via a new attribute name - see https://pandas.pydata.org/pandas-docs/stable/indexing.html#attribute-access\n",
            "  \"\"\"Entry point for launching an IPython kernel.\n"
          ],
          "name": "stderr"
        }
      ]
    },
    {
      "cell_type": "code",
      "metadata": {
        "id": "HUMgnBMIP5MP",
        "colab_type": "code",
        "outputId": "19edb3f7-ffb0-4baa-ee84-11b24ca048cd",
        "colab": {
          "base_uri": "https://localhost:8080/",
          "height": 147
        }
      },
      "source": [
        "print(data.head(5))"
      ],
      "execution_count": 0,
      "outputs": [
        {
          "output_type": "stream",
          "text": [
            "   Age  BusinessTravel  ...  YearsWithCurrManager  Attrition\n",
            "0   46               1  ...                     2          0\n",
            "1   37               2  ...                     2          1\n",
            "2   59               1  ...                     2          0\n",
            "3   54               2  ...                     4          0\n",
            "4   26               1  ...                     7          0\n",
            "\n",
            "[5 rows x 35 columns]\n"
          ],
          "name": "stdout"
        }
      ]
    },
    {
      "cell_type": "code",
      "metadata": {
        "id": "JC552BAFQHNo",
        "colab_type": "code",
        "outputId": "c4cf7fb0-cd4f-4248-a4cb-cf95c9ea828e",
        "colab": {
          "base_uri": "https://localhost:8080/",
          "height": 33
        }
      },
      "source": [
        "print(data.shape)"
      ],
      "execution_count": 0,
      "outputs": [
        {
          "output_type": "stream",
          "text": [
            "(10, 35)\n"
          ],
          "name": "stdout"
        }
      ]
    },
    {
      "cell_type": "code",
      "metadata": {
        "id": "U1n7m8wBQKfK",
        "colab_type": "code",
        "outputId": "d3fcd658-9431-473a-c853-c7c45e788775",
        "colab": {
          "base_uri": "https://localhost:8080/",
          "height": 66
        }
      },
      "source": [
        "print(data['Attrition'].value_counts())"
      ],
      "execution_count": 0,
      "outputs": [
        {
          "output_type": "stream",
          "text": [
            "0    8\n",
            "1    2\n",
            "Name: Attrition, dtype: int64\n"
          ],
          "name": "stdout"
        }
      ]
    },
    {
      "cell_type": "code",
      "metadata": {
        "id": "ydQN78j9SQpe",
        "colab_type": "code",
        "colab": {}
      },
      "source": [
        "from collections import Counter"
      ],
      "execution_count": 0,
      "outputs": []
    },
    {
      "cell_type": "code",
      "metadata": {
        "id": "6kjbw-UCSV3m",
        "colab_type": "code",
        "colab": {}
      },
      "source": [
        "X=data.iloc[:,:-1].values#todas menos la ultima\n",
        "y=data.iloc[:,-1].values #ultima columna"
      ],
      "execution_count": 0,
      "outputs": []
    },
    {
      "cell_type": "code",
      "metadata": {
        "id": "jib--ghPTtF0",
        "colab_type": "code",
        "outputId": "ae8c3a04-4b11-4156-8d20-2ca1f3349e9f",
        "colab": {
          "base_uri": "https://localhost:8080/",
          "height": 50
        }
      },
      "source": [
        "print('Shape of Feature Matrix:',X.shape)\n",
        "print('Shape of target vector:',y.shape)"
      ],
      "execution_count": 0,
      "outputs": [
        {
          "output_type": "stream",
          "text": [
            "Shape of Feature Matrix: (10, 34)\n",
            "Shape of target vector: (10,)\n"
          ],
          "name": "stdout"
        }
      ]
    },
    {
      "cell_type": "code",
      "metadata": {
        "id": "lAt5M0VAWppC",
        "colab_type": "code",
        "outputId": "fc8a1231-abc7-4a45-f4f0-96dabe978699",
        "colab": {
          "base_uri": "https://localhost:8080/",
          "height": 33
        }
      },
      "source": [
        "print('Original target variable distribution:', Counter(y))\n"
      ],
      "execution_count": 0,
      "outputs": [
        {
          "output_type": "stream",
          "text": [
            "Original target variable distribution: Counter({0: 8, 1: 2})\n"
          ],
          "name": "stdout"
        }
      ]
    },
    {
      "cell_type": "code",
      "metadata": {
        "id": "LwHs-F0AXSvP",
        "colab_type": "code",
        "colab": {}
      },
      "source": [
        "ada= ADASYN(sampling_strategy='minority', random_state=1,n_neighbors=1)"
      ],
      "execution_count": 0,
      "outputs": []
    },
    {
      "cell_type": "code",
      "metadata": {
        "id": "XzULif5QXecF",
        "colab_type": "code",
        "outputId": "f8bf30f0-f5b8-44b2-e057-d1268a493d60",
        "colab": {
          "base_uri": "https://localhost:8080/",
          "height": 70
        }
      },
      "source": [
        "X_res, y_res =ada.fit_resample(X,y)"
      ],
      "execution_count": 0,
      "outputs": [
        {
          "output_type": "stream",
          "text": [
            "/usr/local/lib/python3.6/dist-packages/sklearn/utils/deprecation.py:87: FutureWarning: Function safe_indexing is deprecated; safe_indexing is deprecated in version 0.22 and will be removed in version 0.24.\n",
            "  warnings.warn(msg, category=FutureWarning)\n"
          ],
          "name": "stderr"
        }
      ]
    },
    {
      "cell_type": "code",
      "metadata": {
        "id": "MapONhkCcOQT",
        "colab_type": "code",
        "outputId": "81dbb4ff-2108-492e-d317-5e23e798a00d",
        "colab": {
          "base_uri": "https://localhost:8080/",
          "height": 33
        }
      },
      "source": [
        "print('OVersampled Target variable distribucion;', Counter(y_res))"
      ],
      "execution_count": 0,
      "outputs": [
        {
          "output_type": "stream",
          "text": [
            "OVersampled Target variable distribucion; Counter({0: 8, 1: 8})\n"
          ],
          "name": "stdout"
        }
      ]
    }
  ]
}
