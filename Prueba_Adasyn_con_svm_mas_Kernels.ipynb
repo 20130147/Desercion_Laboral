{
  "nbformat": 4,
  "nbformat_minor": 0,
  "metadata": {
    "colab": {
      "name": "Prueba_Adasyn con svm mas Kernels.ipynb",
      "provenance": [],
      "authorship_tag": "ABX9TyOv9YOArx74TdKB7niVCSuE"
    },
    "kernelspec": {
      "name": "python3",
      "display_name": "Python 3"
    }
  },
  "cells": [
    {
      "cell_type": "code",
      "metadata": {
        "id": "dXkZTtc3JCDF",
        "colab_type": "code",
        "outputId": "8cd41b5b-fefe-4d38-ecc5-cd8fabeb7d97",
        "colab": {
          "base_uri": "https://localhost:8080/",
          "height": 139
        }
      },
      "source": [
        "import pandas as pd\n",
        "import numpy as np\n",
        "import matplotlib.pyplot as plt\n",
        "import seaborn as sns\n",
        "from imblearn.over_sampling import ADASYN\n",
        "%matplotlib inline\n",
        "from sklearn.linear_model import LogisticRegression\n",
        "from sklearn.tree import DecisionTreeClassifier\n",
        "from sklearn.svm import SVC\n",
        "from sklearn.model_selection import KFold, cross_val_score"
      ],
      "execution_count": 0,
      "outputs": [
        {
          "output_type": "stream",
          "text": [
            "/usr/local/lib/python3.6/dist-packages/statsmodels/tools/_testing.py:19: FutureWarning: pandas.util.testing is deprecated. Use the functions in the public API at pandas.testing instead.\n",
            "  import pandas.util.testing as tm\n",
            "/usr/local/lib/python3.6/dist-packages/sklearn/externals/six.py:31: FutureWarning: The module is deprecated in version 0.21 and will be removed in version 0.23 since we've dropped support for Python 2.7. Please rely on the official version of six (https://pypi.org/project/six/).\n",
            "  \"(https://pypi.org/project/six/).\", FutureWarning)\n",
            "/usr/local/lib/python3.6/dist-packages/sklearn/utils/deprecation.py:144: FutureWarning: The sklearn.neighbors.base module is  deprecated in version 0.22 and will be removed in version 0.24. The corresponding classes / functions should instead be imported from sklearn.neighbors. Anything that cannot be imported from sklearn.neighbors is now part of the private API.\n",
            "  warnings.warn(message, FutureWarning)\n"
          ],
          "name": "stderr"
        }
      ]
    },
    {
      "cell_type": "code",
      "metadata": {
        "id": "j9f29bO4LNOV",
        "colab_type": "code",
        "colab": {}
      },
      "source": [
        "data=pd.read_csv('NORMALIZADO.csv')"
      ],
      "execution_count": 0,
      "outputs": []
    },
    {
      "cell_type": "code",
      "metadata": {
        "id": "GyQ-YV7LNdGr",
        "colab_type": "code",
        "colab": {}
      },
      "source": [
        "cols=['Age','BysunessTrave','DailyRate','Department','DistanceFromHome', 'Education', 'EducationField','EmployeeNumber','EnvironmentSatifaction', 'Gender', 'HourlyRate', 'Joblnvolvement', 'JobLevel'\n",
        "      'JobRole','JobSatisfaction','MaritalStatus','MonthlyIncome', 'MonthlyRate', 'NumCompaniesWorked', 'OverTime', 'PercentSalaryHike', 'PerformanceRating', 'RelationshipSatisfaction', 'StockOptionLevel'\n",
        "      'TotalWorkingYears', 'TraininTimesLastYear', 'WorkLifeBalance','YearAtCompany', 'YearInCurrentRole', 'YearsSinceLastPromotion', 'YearsWithCurrManager','Attrition']"
      ],
      "execution_count": 0,
      "outputs": []
    },
    {
      "cell_type": "code",
      "metadata": {
        "id": "ZFrNRCuIP1Xa",
        "colab_type": "code",
        "outputId": "9821d232-b250-45e4-ad79-025158d47d0b",
        "colab": {
          "base_uri": "https://localhost:8080/",
          "height": 71
        }
      },
      "source": [
        "data.colums=cols"
      ],
      "execution_count": 0,
      "outputs": [
        {
          "output_type": "stream",
          "text": [
            "/usr/local/lib/python3.6/dist-packages/ipykernel_launcher.py:1: UserWarning: Pandas doesn't allow columns to be created via a new attribute name - see https://pandas.pydata.org/pandas-docs/stable/indexing.html#attribute-access\n",
            "  \"\"\"Entry point for launching an IPython kernel.\n"
          ],
          "name": "stderr"
        }
      ]
    },
    {
      "cell_type": "code",
      "metadata": {
        "id": "HUMgnBMIP5MP",
        "colab_type": "code",
        "outputId": "40d1499b-11da-419e-f2d9-f5ec57c8c9f4",
        "colab": {
          "base_uri": "https://localhost:8080/",
          "height": 153
        }
      },
      "source": [
        "print(data.head(5))"
      ],
      "execution_count": 0,
      "outputs": [
        {
          "output_type": "stream",
          "text": [
            "   Age  BusinessTravel  ...  YearsWithCurrManager  Attrition\n",
            "0   41               2  ...                     5          1\n",
            "1   53               2  ...                     7          0\n",
            "2   36               2  ...                     3          1\n",
            "3   42               2  ...                     2          0\n",
            "4   46               2  ...                     1          0\n",
            "\n",
            "[5 rows x 32 columns]\n"
          ],
          "name": "stdout"
        }
      ]
    },
    {
      "cell_type": "code",
      "metadata": {
        "id": "JC552BAFQHNo",
        "colab_type": "code",
        "outputId": "38e01099-301b-4715-acef-7baa05fc2be7",
        "colab": {
          "base_uri": "https://localhost:8080/",
          "height": 34
        }
      },
      "source": [
        "print(data.shape)"
      ],
      "execution_count": 0,
      "outputs": [
        {
          "output_type": "stream",
          "text": [
            "(446, 32)\n"
          ],
          "name": "stdout"
        }
      ]
    },
    {
      "cell_type": "code",
      "metadata": {
        "id": "U1n7m8wBQKfK",
        "colab_type": "code",
        "outputId": "d73b1209-4c3c-43ce-cdd3-2cc2da0ba22b",
        "colab": {
          "base_uri": "https://localhost:8080/",
          "height": 68
        }
      },
      "source": [
        "print(data['Attrition'].value_counts())"
      ],
      "execution_count": 0,
      "outputs": [
        {
          "output_type": "stream",
          "text": [
            "0    354\n",
            "1     92\n",
            "Name: Attrition, dtype: int64\n"
          ],
          "name": "stdout"
        }
      ]
    },
    {
      "cell_type": "code",
      "metadata": {
        "id": "ydQN78j9SQpe",
        "colab_type": "code",
        "colab": {}
      },
      "source": [
        "from collections import Counter"
      ],
      "execution_count": 0,
      "outputs": []
    },
    {
      "cell_type": "code",
      "metadata": {
        "id": "6kjbw-UCSV3m",
        "colab_type": "code",
        "colab": {}
      },
      "source": [
        "Datos=data.iloc[:,:-1].values#todas menos la ultima\n",
        "Categoria=data.iloc[:,-1].values #ultima columna"
      ],
      "execution_count": 0,
      "outputs": []
    },
    {
      "cell_type": "code",
      "metadata": {
        "id": "jib--ghPTtF0",
        "colab_type": "code",
        "outputId": "32c3f3b5-2789-4dc5-e163-b5ee2257351c",
        "colab": {
          "base_uri": "https://localhost:8080/",
          "height": 51
        }
      },
      "source": [
        "print('Shape of Feature Matrix:',Datos.shape)\n",
        "print('Shape of target vector:',Categoria.shape)"
      ],
      "execution_count": 0,
      "outputs": [
        {
          "output_type": "stream",
          "text": [
            "Shape of Feature Matrix: (446, 31)\n",
            "Shape of target vector: (446,)\n"
          ],
          "name": "stdout"
        }
      ]
    },
    {
      "cell_type": "code",
      "metadata": {
        "id": "lAt5M0VAWppC",
        "colab_type": "code",
        "outputId": "5c786606-cbef-419b-ca11-f77246210f24",
        "colab": {
          "base_uri": "https://localhost:8080/",
          "height": 34
        }
      },
      "source": [
        "print('Original target variable distribution:', Counter(Categoria))\n"
      ],
      "execution_count": 0,
      "outputs": [
        {
          "output_type": "stream",
          "text": [
            "Original target variable distribution: Counter({0: 354, 1: 92})\n"
          ],
          "name": "stdout"
        }
      ]
    },
    {
      "cell_type": "code",
      "metadata": {
        "id": "LwHs-F0AXSvP",
        "colab_type": "code",
        "colab": {}
      },
      "source": [
        "ada= ADASYN(sampling_strategy='minority', random_state=4,n_neighbors=1)"
      ],
      "execution_count": 0,
      "outputs": []
    },
    {
      "cell_type": "code",
      "metadata": {
        "id": "XzULif5QXecF",
        "colab_type": "code",
        "outputId": "992c4778-710f-48c2-f1ad-770b306bf8dc",
        "colab": {
          "base_uri": "https://localhost:8080/",
          "height": 71
        }
      },
      "source": [
        "DatosNorma, CategoriaNorma =ada.fit_resample(Datos,Categoria)"
      ],
      "execution_count": 0,
      "outputs": [
        {
          "output_type": "stream",
          "text": [
            "/usr/local/lib/python3.6/dist-packages/sklearn/utils/deprecation.py:87: FutureWarning: Function safe_indexing is deprecated; safe_indexing is deprecated in version 0.22 and will be removed in version 0.24.\n",
            "  warnings.warn(msg, category=FutureWarning)\n"
          ],
          "name": "stderr"
        }
      ]
    },
    {
      "cell_type": "code",
      "metadata": {
        "id": "MapONhkCcOQT",
        "colab_type": "code",
        "outputId": "532cbb6a-0c69-4546-f5bc-e969587e4e4d",
        "colab": {
          "base_uri": "https://localhost:8080/",
          "height": 34
        }
      },
      "source": [
        "print('OVersampled Target variable distribucion;', Counter(CategoriaNorma))"
      ],
      "execution_count": 0,
      "outputs": [
        {
          "output_type": "stream",
          "text": [
            "OVersampled Target variable distribucion; Counter({1: 380, 0: 354})\n"
          ],
          "name": "stdout"
        }
      ]
    },
    {
      "cell_type": "code",
      "metadata": {
        "id": "oXNi3PP1c1n4",
        "colab_type": "code",
        "colab": {}
      },
      "source": [
        "############################################# modelos SVM ##############################################################"
      ],
      "execution_count": 0,
      "outputs": []
    },
    {
      "cell_type": "code",
      "metadata": {
        "id": "MAbbJiNa07cS",
        "colab_type": "code",
        "outputId": "501fb650-2692-434c-bf83-9361f354b1be",
        "colab": {
          "base_uri": "https://localhost:8080/",
          "height": 136
        }
      },
      "source": [
        "print(DatosNorma)"
      ],
      "execution_count": 0,
      "outputs": [
        {
          "output_type": "stream",
          "text": [
            "[[  41    2 1102 ...    4    0    5]\n",
            " [  53    2 1219 ...    8    3    7]\n",
            " [  36    2 1218 ...    3    0    3]\n",
            " ...\n",
            " [  47    1 1122 ...    5    0    4]\n",
            " [  46    1 1231 ...    6    0    6]\n",
            " [  46    1 1181 ...    6    0    5]]\n"
          ],
          "name": "stdout"
        }
      ]
    },
    {
      "cell_type": "code",
      "metadata": {
        "id": "O6ItmXm9zpS-",
        "colab_type": "code",
        "colab": {}
      },
      "source": [
        "from sklearn.model_selection import train_test_split"
      ],
      "execution_count": 0,
      "outputs": []
    },
    {
      "cell_type": "code",
      "metadata": {
        "id": "7qDnbAnh0OWv",
        "colab_type": "code",
        "colab": {}
      },
      "source": [
        "X_train, X_test, y_train, y_test = train_test_split(DatosNorma,CategoriaNorma,test_size=0.3,random_state=109)\n"
      ],
      "execution_count": 0,
      "outputs": []
    },
    {
      "cell_type": "code",
      "metadata": {
        "id": "hfwL3MAX1oMr",
        "colab_type": "code",
        "colab": {}
      },
      "source": [
        "from sklearn import svm"
      ],
      "execution_count": 0,
      "outputs": []
    },
    {
      "cell_type": "code",
      "metadata": {
        "id": "P6iRAggI1riG",
        "colab_type": "code",
        "colab": {}
      },
      "source": [
        "clf = svm.SVC(kernel='linear')"
      ],
      "execution_count": 0,
      "outputs": []
    },
    {
      "cell_type": "code",
      "metadata": {
        "id": "k3FPRMk11tso",
        "colab_type": "code",
        "outputId": "6883e204-8253-48e6-a722-e7cc89cef7d2",
        "colab": {
          "base_uri": "https://localhost:8080/",
          "height": 85
        }
      },
      "source": [
        "clf.fit(X_train, y_train)"
      ],
      "execution_count": 0,
      "outputs": [
        {
          "output_type": "execute_result",
          "data": {
            "text/plain": [
              "SVC(C=1.0, break_ties=False, cache_size=200, class_weight=None, coef0=0.0,\n",
              "    decision_function_shape='ovr', degree=3, gamma='scale', kernel='linear',\n",
              "    max_iter=-1, probability=False, random_state=None, shrinking=True,\n",
              "    tol=0.001, verbose=False)"
            ]
          },
          "metadata": {
            "tags": []
          },
          "execution_count": 43
        }
      ]
    },
    {
      "cell_type": "code",
      "metadata": {
        "id": "ow4vBZiP15m0",
        "colab_type": "code",
        "colab": {}
      },
      "source": [
        "y_pred = clf.predict(X_test)"
      ],
      "execution_count": 0,
      "outputs": []
    },
    {
      "cell_type": "code",
      "metadata": {
        "id": "uhdnPsfo2APH",
        "colab_type": "code",
        "colab": {}
      },
      "source": [
        "from sklearn import metrics"
      ],
      "execution_count": 0,
      "outputs": []
    },
    {
      "cell_type": "code",
      "metadata": {
        "id": "UvBLtClL2Cp_",
        "colab_type": "code",
        "outputId": "b95499d0-72cc-40ca-d73c-22c4796c7a9e",
        "colab": {
          "base_uri": "https://localhost:8080/",
          "height": 34
        }
      },
      "source": [
        "print(\"Accuracy:\",metrics.accuracy_score(y_test, y_pred))"
      ],
      "execution_count": 0,
      "outputs": [
        {
          "output_type": "stream",
          "text": [
            "Accuracy: 0.8009049773755657\n"
          ],
          "name": "stdout"
        }
      ]
    },
    {
      "cell_type": "code",
      "metadata": {
        "id": "HT19xZAz63Mw",
        "colab_type": "code",
        "colab": {}
      },
      "source": [
        "from sklearn.metrics import classification_report, confusion_matrix"
      ],
      "execution_count": 0,
      "outputs": []
    },
    {
      "cell_type": "code",
      "metadata": {
        "id": "EmoYotxY69At",
        "colab_type": "code",
        "outputId": "03866a3d-0d08-43bb-8106-a1c129b6b290",
        "colab": {
          "base_uri": "https://localhost:8080/",
          "height": 204
        }
      },
      "source": [
        "print(confusion_matrix(y_test,y_pred))\n",
        "print(classification_report(y_test,y_pred))"
      ],
      "execution_count": 0,
      "outputs": [
        {
          "output_type": "stream",
          "text": [
            "[[ 72  22]\n",
            " [ 22 105]]\n",
            "              precision    recall  f1-score   support\n",
            "\n",
            "           0       0.77      0.77      0.77        94\n",
            "           1       0.83      0.83      0.83       127\n",
            "\n",
            "    accuracy                           0.80       221\n",
            "   macro avg       0.80      0.80      0.80       221\n",
            "weighted avg       0.80      0.80      0.80       221\n",
            "\n"
          ],
          "name": "stdout"
        }
      ]
    },
    {
      "cell_type": "markdown",
      "metadata": {
        "id": "8w6cDU417euG",
        "colab_type": "text"
      },
      "source": [
        "#####################################DIFERENTE KERNEL"
      ]
    },
    {
      "cell_type": "code",
      "metadata": {
        "id": "Ggqv8eKp7XOw",
        "colab_type": "code",
        "outputId": "4d1696ed-9784-4b47-911d-5b932c5b506d",
        "colab": {
          "base_uri": "https://localhost:8080/",
          "height": 85
        }
      },
      "source": [
        "svclassifier = SVC(kernel='poly', degree=8)\n",
        "svclassifier.fit(X_train, y_train)"
      ],
      "execution_count": 0,
      "outputs": [
        {
          "output_type": "execute_result",
          "data": {
            "text/plain": [
              "SVC(C=1.0, break_ties=False, cache_size=200, class_weight=None, coef0=0.0,\n",
              "    decision_function_shape='ovr', degree=8, gamma='scale', kernel='poly',\n",
              "    max_iter=-1, probability=False, random_state=None, shrinking=True,\n",
              "    tol=0.001, verbose=False)"
            ]
          },
          "metadata": {
            "tags": []
          },
          "execution_count": 51
        }
      ]
    },
    {
      "cell_type": "code",
      "metadata": {
        "id": "pxvsRgvh7kX3",
        "colab_type": "code",
        "colab": {}
      },
      "source": [
        "y_pred = svclassifier.predict(X_test)"
      ],
      "execution_count": 0,
      "outputs": []
    },
    {
      "cell_type": "code",
      "metadata": {
        "id": "boplZ3eK7oRp",
        "colab_type": "code",
        "outputId": "b5dd04a5-e764-4241-985e-dd7a42352fe7",
        "colab": {
          "base_uri": "https://localhost:8080/",
          "height": 204
        }
      },
      "source": [
        "print(confusion_matrix(y_test, y_pred))\n",
        "print(classification_report(y_test, y_pred))"
      ],
      "execution_count": 0,
      "outputs": [
        {
          "output_type": "stream",
          "text": [
            "[[ 85   9]\n",
            " [103  24]]\n",
            "              precision    recall  f1-score   support\n",
            "\n",
            "           0       0.45      0.90      0.60        94\n",
            "           1       0.73      0.19      0.30       127\n",
            "\n",
            "    accuracy                           0.49       221\n",
            "   macro avg       0.59      0.55      0.45       221\n",
            "weighted avg       0.61      0.49      0.43       221\n",
            "\n"
          ],
          "name": "stdout"
        }
      ]
    },
    {
      "cell_type": "code",
      "metadata": {
        "id": "gJVUSsD07xfu",
        "colab_type": "code",
        "colab": {}
      },
      "source": [
        "###################################################### KERNEL: GAUSSIANO##################################################"
      ],
      "execution_count": 0,
      "outputs": []
    },
    {
      "cell_type": "code",
      "metadata": {
        "id": "YE621ors7zO7",
        "colab_type": "code",
        "outputId": "6ad7c934-e5ee-4f41-8f36-807ceb88c5da",
        "colab": {
          "base_uri": "https://localhost:8080/",
          "height": 85
        }
      },
      "source": [
        "svclassifier = SVC(kernel='rbf')\n",
        "svclassifier.fit(X_train, y_train)"
      ],
      "execution_count": 0,
      "outputs": [
        {
          "output_type": "execute_result",
          "data": {
            "text/plain": [
              "SVC(C=1.0, break_ties=False, cache_size=200, class_weight=None, coef0=0.0,\n",
              "    decision_function_shape='ovr', degree=3, gamma='scale', kernel='rbf',\n",
              "    max_iter=-1, probability=False, random_state=None, shrinking=True,\n",
              "    tol=0.001, verbose=False)"
            ]
          },
          "metadata": {
            "tags": []
          },
          "execution_count": 54
        }
      ]
    },
    {
      "cell_type": "code",
      "metadata": {
        "id": "XLy3p25o71lT",
        "colab_type": "code",
        "colab": {}
      },
      "source": [
        "y_pred = svclassifier.predict(X_test)"
      ],
      "execution_count": 0,
      "outputs": []
    },
    {
      "cell_type": "code",
      "metadata": {
        "id": "g_mEPtO08B65",
        "colab_type": "code",
        "outputId": "c4272779-db7f-492f-abc7-b7eeef59ffb2",
        "colab": {
          "base_uri": "https://localhost:8080/",
          "height": 34
        }
      },
      "source": [
        "print(\"Accuracy:\",metrics.accuracy_score(y_test, y_pred))"
      ],
      "execution_count": 0,
      "outputs": [
        {
          "output_type": "stream",
          "text": [
            "Accuracy: 0.5067873303167421\n"
          ],
          "name": "stdout"
        }
      ]
    },
    {
      "cell_type": "code",
      "metadata": {
        "id": "mtfUkZ9c74i-",
        "colab_type": "code",
        "outputId": "b6a0b4a2-585c-4089-84e6-8e51d869c29b",
        "colab": {
          "base_uri": "https://localhost:8080/",
          "height": 204
        }
      },
      "source": [
        "print(confusion_matrix(y_test, y_pred))\n",
        "print(classification_report(y_test, y_pred))"
      ],
      "execution_count": 0,
      "outputs": [
        {
          "output_type": "stream",
          "text": [
            "[[59 35]\n",
            " [74 53]]\n",
            "              precision    recall  f1-score   support\n",
            "\n",
            "           0       0.44      0.63      0.52        94\n",
            "           1       0.60      0.42      0.49       127\n",
            "\n",
            "    accuracy                           0.51       221\n",
            "   macro avg       0.52      0.52      0.51       221\n",
            "weighted avg       0.53      0.51      0.50       221\n",
            "\n"
          ],
          "name": "stdout"
        }
      ]
    },
    {
      "cell_type": "markdown",
      "metadata": {
        "id": "jwSF5aG18GAI",
        "colab_type": "text"
      },
      "source": [
        "#############KERNEL SIGMOIDE##################################################"
      ]
    },
    {
      "cell_type": "code",
      "metadata": {
        "id": "2FdmKX8b8HNV",
        "colab_type": "code",
        "outputId": "884e0aea-de83-425d-e495-960d53ba626f",
        "colab": {
          "base_uri": "https://localhost:8080/",
          "height": 85
        }
      },
      "source": [
        "svclassifier = SVC(kernel='sigmoid')\n",
        "svclassifier.fit(X_train, y_train)"
      ],
      "execution_count": 0,
      "outputs": [
        {
          "output_type": "execute_result",
          "data": {
            "text/plain": [
              "SVC(C=1.0, break_ties=False, cache_size=200, class_weight=None, coef0=0.0,\n",
              "    decision_function_shape='ovr', degree=3, gamma='scale', kernel='sigmoid',\n",
              "    max_iter=-1, probability=False, random_state=None, shrinking=True,\n",
              "    tol=0.001, verbose=False)"
            ]
          },
          "metadata": {
            "tags": []
          },
          "execution_count": 59
        }
      ]
    },
    {
      "cell_type": "code",
      "metadata": {
        "id": "oU9roLH08OEl",
        "colab_type": "code",
        "colab": {}
      },
      "source": [
        "y_pred = svclassifier.predict(X_test)"
      ],
      "execution_count": 0,
      "outputs": []
    },
    {
      "cell_type": "code",
      "metadata": {
        "id": "_xUECvJE8Qk6",
        "colab_type": "code",
        "outputId": "761e11ab-a967-457a-e06d-87bb28dd3d30",
        "colab": {
          "base_uri": "https://localhost:8080/",
          "height": 204
        }
      },
      "source": [
        "print(confusion_matrix(y_test, y_pred))\n",
        "print(classification_report(y_test, y_pred))"
      ],
      "execution_count": 0,
      "outputs": [
        {
          "output_type": "stream",
          "text": [
            "[[49 45]\n",
            " [62 65]]\n",
            "              precision    recall  f1-score   support\n",
            "\n",
            "           0       0.44      0.52      0.48        94\n",
            "           1       0.59      0.51      0.55       127\n",
            "\n",
            "    accuracy                           0.52       221\n",
            "   macro avg       0.52      0.52      0.51       221\n",
            "weighted avg       0.53      0.52      0.52       221\n",
            "\n"
          ],
          "name": "stdout"
        }
      ]
    }
  ]
}